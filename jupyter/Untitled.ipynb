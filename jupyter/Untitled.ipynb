{
 "cells": [
  {
   "cell_type": "code",
   "execution_count": 12,
   "id": "8a0919ba",
   "metadata": {},
   "outputs": [],
   "source": [
    "import pandas as pd\n",
    "\n",
    "Y21_22 = pd.read_csv('../csv/infarct_2021-22.csv')\n",
    "Y23 = pd.read_csv('../csv/infarct_2023.csv')\n",
    "Y_all = pd.read_csv('../csv/infarct_all.csv')"
   ]
  },
  {
   "cell_type": "code",
   "execution_count": 13,
   "id": "4cc84e04",
   "metadata": {},
   "outputs": [],
   "source": [
    "infarct = Y21_22.merge(Y23, how='left', \n",
    "          left_on='registration_area',\n",
    "          right_on='registration_area')\n",
    "# infarct.sort_values(by='registration_area', inplace=True)\n",
    "infarct.to_excel('../out/infarctAll.xlsx', index=False)\n",
    "infarct.to_excel('../out/infarct_all.xlsx', index=False)"
   ]
  },
  {
   "cell_type": "code",
   "execution_count": null,
   "id": "98828946",
   "metadata": {},
   "outputs": [],
   "source": []
  }
 ],
 "metadata": {
  "kernelspec": {
   "display_name": "Python 3 (ipykernel)",
   "language": "python",
   "name": "python3"
  },
  "language_info": {
   "codemirror_mode": {
    "name": "ipython",
    "version": 3
   },
   "file_extension": ".py",
   "mimetype": "text/x-python",
   "name": "python",
   "nbconvert_exporter": "python",
   "pygments_lexer": "ipython3",
   "version": "3.9.13"
  }
 },
 "nbformat": 4,
 "nbformat_minor": 5
}
